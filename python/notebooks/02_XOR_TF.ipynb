{
 "cells": [
  {
   "cell_type": "markdown",
   "metadata": {},
   "source": [
    "# 02 - XOR model with TensorFlow"
   ]
  },
  {
   "cell_type": "code",
   "execution_count": 1,
   "metadata": {},
   "outputs": [],
   "source": [
    "# see https://aimatters.wordpress.com/2016/01/16/solving-xor-with-a-neural-network-in-tensorflow/\n",
    "\n",
    "import tensorflow as tf\n",
    "import time"
   ]
  },
  {
   "cell_type": "markdown",
   "metadata": {},
   "source": [
    "#### training and test data"
   ]
  },
  {
   "cell_type": "code",
   "execution_count": 2,
   "metadata": {},
   "outputs": [],
   "source": [
    "XOR_X = [[0,0],[0,1],[1,0],[1,1]]\n",
    "XOR_Y = [[0],[1],[1],[0]]"
   ]
  },
  {
   "cell_type": "markdown",
   "metadata": {},
   "source": [
    "#### define weight and bias"
   ]
  },
  {
   "cell_type": "code",
   "execution_count": 3,
   "metadata": {},
   "outputs": [],
   "source": [
    "x_ = tf.placeholder(tf.float32, shape=[4,2], name = 'x-input')\n",
    "y_ = tf.placeholder(tf.float32, shape=[4,1], name = 'y-input')\n",
    "\n",
    "Weight1 = tf.Variable(tf.random_uniform([2,2], -1, 1, seed=80636), name = \"Weight1\")\n",
    "Weight2 = tf.Variable(tf.random_uniform([2,1], -1, 1, seed=80636), name = \"Weight2\")\n",
    "\n",
    "Bias1 = tf.Variable(tf.zeros([2]), name = \"Bias1\")\n",
    "Bias2 = tf.Variable(tf.zeros([1]), name = \"Bias2\")"
   ]
  },
  {
   "cell_type": "markdown",
   "metadata": {},
   "source": [
    "#### layers\n",
    "![artificial neuron](https://upload.wikimedia.org/wikipedia/commons/thumb/6/60/ArtificialNeuronModel_english.png/640px-ArtificialNeuronModel_english.png) (credit: https://commons.wikimedia.org/wiki/File:ArtificialNeuronModel_english.png)"
   ]
  },
  {
   "cell_type": "code",
   "execution_count": 4,
   "metadata": {},
   "outputs": [],
   "source": [
    "with tf.name_scope(\"layer2\") as scope:\n",
    "    A2 = tf.sigmoid(tf.matmul(x_, Weight1) + Bias1)\n",
    "\n",
    "with tf.name_scope(\"layer3\") as scope:\n",
    "    Hypothesis = tf.sigmoid(tf.matmul(A2, Weight2) + Bias2)\n",
    "\n",
    "with tf.name_scope(\"cost\") as scope:\n",
    "    cost = tf.reduce_mean(( (y_ * tf.log(Hypothesis)) + \n",
    "        ((1 - y_) * tf.log(1.0 - Hypothesis)) ) * -1)\n",
    "\n",
    "with tf.name_scope(\"train\") as scope:\n",
    "    train_step = tf.train.GradientDescentOptimizer(0.01).minimize(cost)"
   ]
  },
  {
   "cell_type": "markdown",
   "metadata": {},
   "source": [
    "#### initialize"
   ]
  },
  {
   "cell_type": "code",
   "execution_count": 5,
   "metadata": {},
   "outputs": [],
   "source": [
    "init = tf.global_variables_initializer()\n",
    "sess = tf.Session()"
   ]
  },
  {
   "cell_type": "markdown",
   "metadata": {},
   "source": [
    "#### TensorBoard"
   ]
  },
  {
   "cell_type": "code",
   "execution_count": 6,
   "metadata": {},
   "outputs": [],
   "source": [
    "writer = tf.summary.FileWriter(\"./logs/xor_tf\", sess.graph)"
   ]
  },
  {
   "cell_type": "markdown",
   "metadata": {},
   "source": [
    "#### training"
   ]
  },
  {
   "cell_type": "code",
   "execution_count": 7,
   "metadata": {},
   "outputs": [
    {
     "name": "stdout",
     "output_type": "stream",
     "text": [
      "('Epoch ', 0)\n",
      "('Hypothesis ', array([[0.5930999 ],\n",
      "       [0.5729397 ],\n",
      "       [0.61108035],\n",
      "       [0.59025407]], dtype=float32))\n",
      "('cost ', 0.7102268)\n",
      "('Weight1 ', array([[ 0.28009105,  0.4762264 ],\n",
      "       [ 0.13191037, -0.8172394 ]], dtype=float32))\n",
      "('Bias1 ', array([-6.1933431e-05, -1.3013092e-04], dtype=float32))\n",
      "('Weight2 ', array([[0.27961528],\n",
      "       [0.47585848]], dtype=float32))\n",
      "('Bias2 ', array([-0.00092188], dtype=float32))\n",
      "('Epoch ', 10000)\n",
      "('Hypothesis ', array([[0.5035934 ],\n",
      "       [0.4826417 ],\n",
      "       [0.51913285],\n",
      "       [0.49556032]], dtype=float32))\n",
      "('cost ', 0.6921857)\n",
      "('Weight1 ', array([[ 0.2724612 ,  0.49000102],\n",
      "       [ 0.1606898 , -0.9704526 ]], dtype=float32))\n",
      "('Bias1 ', array([-0.00403389, -0.23953626], dtype=float32))\n",
      "('Weight2 ', array([[0.15065141],\n",
      "       [0.4265597 ]], dtype=float32))\n",
      "('Bias2 ', array([-0.24865703], dtype=float32))\n",
      "('Epoch ', 20000)\n",
      "('Hypothesis ', array([[0.505562  ],\n",
      "       [0.46940672],\n",
      "       [0.5379392 ],\n",
      "       [0.49013022]], dtype=float32))\n",
      "('cost ', 0.68855715)\n",
      "('Weight1 ', array([[ 0.26896852,  0.7183176 ],\n",
      "       [ 0.2064422 , -1.2701151 ]], dtype=float32))\n",
      "('Bias1 ', array([ 0.00500134, -0.5867647 ], dtype=float32))\n",
      "('Weight2 ', array([[0.14463146],\n",
      "       [0.6846797 ]], dtype=float32))\n",
      "('Bias2 ', array([-0.29493672], dtype=float32))\n",
      "('Epoch ', 30000)\n",
      "('Hypothesis ', array([[0.48958266],\n",
      "       [0.42055997],\n",
      "       [0.6364423 ],\n",
      "       [0.46262786]], dtype=float32))\n",
      "('cost ', 0.6529052)\n",
      "('Weight1 ', array([[ 0.2429935 ,  1.634248  ],\n",
      "       [ 0.28208014, -2.1881537 ]], dtype=float32))\n",
      "('Bias1 ', array([ 0.01182386, -1.3650557 ], dtype=float32))\n",
      "('Weight2 ', array([[0.11929382],\n",
      "       [1.6353955 ]], dtype=float32))\n",
      "('Bias2 ', array([-0.43434682], dtype=float32))\n",
      "('Epoch ', 40000)\n",
      "('Hypothesis ', array([[0.41351685],\n",
      "       [0.35970157],\n",
      "       [0.8433527 ],\n",
      "       [0.39646748]], dtype=float32))\n",
      "('cost ', 0.55785435)\n",
      "('Weight1 ', array([[ 0.1149107 ,  3.252712  ],\n",
      "       [ 0.45360252, -3.7796404 ]], dtype=float32))\n",
      "('Bias1 ', array([ 0.00862422, -2.4828522 ], dtype=float32))\n",
      "('Weight2 ', array([[0.21538278],\n",
      "       [3.3419898 ]], dtype=float32))\n",
      "('Bias2 ', array([-0.71516544], dtype=float32))\n",
      "('Epoch ', 50000)\n",
      "('Hypothesis ', array([[0.35672814],\n",
      "       [0.41164786],\n",
      "       [0.9114599 ],\n",
      "       [0.35968634]], dtype=float32))\n",
      "('cost ', 0.4668199)\n",
      "('Weight1 ', array([[-0.9444183,  4.3271217],\n",
      "       [ 1.1801317, -4.8654327]], dtype=float32))\n",
      "('Bias1 ', array([-0.3664308, -3.240394 ], dtype=float32))\n",
      "('Weight2 ', array([[1.4139334],\n",
      "       [4.506201 ]], dtype=float32))\n",
      "('Bias2 ', array([-1.3382279], dtype=float32))\n",
      "('Epoch ', 60000)\n",
      "('Hypothesis ', array([[0.16094044],\n",
      "       [0.8230712 ],\n",
      "       [0.9269265 ],\n",
      "       [0.13216352]], dtype=float32))\n",
      "('cost ', 0.14695477)\n",
      "('Weight1 ', array([[-3.6151345,  5.295959 ],\n",
      "       [ 3.2771797, -5.533699 ]], dtype=float32))\n",
      "('Bias1 ', array([-1.7372915, -3.389305 ], dtype=float32))\n",
      "('Weight2 ', array([[5.015331],\n",
      "       [5.869363]], dtype=float32))\n",
      "('Bias2 ', array([-2.5933537], dtype=float32))\n",
      "('Epoch ', 70000)\n",
      "('Hypothesis ', array([[0.0736336 ],\n",
      "       [0.9315652 ],\n",
      "       [0.95488364],\n",
      "       [0.06184123]], dtype=float32))\n",
      "('cost ', 0.06434411)\n",
      "('Weight1 ', array([[-4.6133127,  5.78546  ],\n",
      "       [ 4.275202 , -5.909253 ]], dtype=float32))\n",
      "('Bias1 ', array([-2.3290672, -3.4325416], dtype=float32))\n",
      "('Weight2 ', array([[6.8193865],\n",
      "       [7.0113487]], dtype=float32))\n",
      "('Bias2 ', array([-3.35676], dtype=float32))\n",
      "('Epoch ', 80000)\n",
      "('Hypothesis ', array([[0.04611251],\n",
      "       [0.9599494 ],\n",
      "       [0.9689283 ],\n",
      "       [0.03929517]], dtype=float32))\n",
      "('cost ', 0.03993427)\n",
      "('Weight1 ', array([[-5.088614 ,  6.045373 ],\n",
      "       [ 4.753501 , -6.1494546]], dtype=float32))\n",
      "('Bias1 ', array([-2.6052516, -3.4882877], dtype=float32))\n",
      "('Weight2 ', array([[7.7860293],\n",
      "       [7.793287 ]], dtype=float32))\n",
      "('Bias2 ', array([-3.7961998], dtype=float32))\n",
      "('Epoch ', 90000)\n",
      "('Hypothesis ', array([[0.03325241],\n",
      "       [0.9721015 ],\n",
      "       [0.97663   ],\n",
      "       [0.02856223]], dtype=float32))\n",
      "('cost ', 0.028684605)\n",
      "('Weight1 ', array([[-5.385679 ,  6.2170124],\n",
      "       [ 5.053369 , -6.320977 ]], dtype=float32))\n",
      "('Bias1 ', array([-2.7738316, -3.5377266], dtype=float32))\n",
      "('Weight2 ', array([[8.435471],\n",
      "       [8.369561]], dtype=float32))\n",
      "('Bias2 ', array([-4.1019382], dtype=float32))\n",
      "('Epoch ', 100000)\n",
      "('Hypothesis ', array([[0.02589168],\n",
      "       [0.9787202 ],\n",
      "       [0.98138416],\n",
      "       [0.02234969]], dtype=float32))\n",
      "('cost ', 0.022284199)\n",
      "('Weight1 ', array([[-5.597241 ,  6.343999 ],\n",
      "       [ 5.2674527, -6.452686 ]], dtype=float32))\n",
      "('Bias1 ', array([-2.8918147, -3.5797877], dtype=float32))\n",
      "('Weight2 ', array([[8.922872],\n",
      "       [8.822058]], dtype=float32))\n",
      "('Bias2 ', array([-4.335885], dtype=float32))\n",
      "('Elapsed time ', 45.491102999999995)\n"
     ]
    }
   ],
   "source": [
    "sess.run(init)\n",
    "\n",
    "t_start = time.clock()\n",
    "for i in range(100001):\n",
    "    sess.run(train_step, feed_dict={x_: XOR_X, y_: XOR_Y})\n",
    "    if i % 10000 == 0:\n",
    "        print('Epoch ', i)\n",
    "        print('Hypothesis ', sess.run(Hypothesis, feed_dict={x_: XOR_X, y_: XOR_Y}))\n",
    "        print('cost ', sess.run(cost, feed_dict={x_: XOR_X, y_: XOR_Y}))\n",
    "        print('Weight1 ', sess.run(Weight1))\n",
    "        print('Bias1 ', sess.run(Bias1))\n",
    "        print('Weight2 ', sess.run(Weight2))\n",
    "        print('Bias2 ', sess.run(Bias2))\n",
    "\n",
    "\n",
    "\n",
    "t_end = time.clock()\n",
    "print('Elapsed time ', t_end - t_start)"
   ]
  },
  {
   "cell_type": "markdown",
   "metadata": {},
   "source": [
    "#### result"
   ]
  },
  {
   "cell_type": "code",
   "execution_count": 8,
   "metadata": {},
   "outputs": [
    {
     "name": "stdout",
     "output_type": "stream",
     "text": [
      "[[0.02589168]\n",
      " [0.9787202 ]\n",
      " [0.98138416]\n",
      " [0.02234969]]\n"
     ]
    }
   ],
   "source": [
    "print sess.run(Hypothesis, feed_dict={x_: XOR_X, y_: XOR_Y})"
   ]
  },
  {
   "cell_type": "markdown",
   "metadata": {},
   "source": [
    "## freeze model and save to PB file"
   ]
  },
  {
   "cell_type": "code",
   "execution_count": 9,
   "metadata": {
    "scrolled": true
   },
   "outputs": [
    {
     "name": "stdout",
     "output_type": "stream",
     "text": [
      "[u'Bias1', u'Bias2', u'Weight2', u'Weight1']\n",
      "[u'layer3/Sigmoid']\n",
      "INFO:tensorflow:Froze 4 variables.\n",
      "INFO:tensorflow:Converted 4 variables to const ops.\n",
      "models/xor_tf.pb written\n"
     ]
    }
   ],
   "source": [
    "freeze_var_names = list(set(v.op.name for v in tf.global_variables()))\n",
    "print freeze_var_names\n",
    "output_names = [Hypothesis.op.name]\n",
    "print output_names\n",
    "\n",
    "from tensorflow.python.framework.graph_util import remove_training_nodes\n",
    "\n",
    "sub_graph_def = remove_training_nodes(sess.graph_def)\n",
    "\n",
    "\n",
    "from tensorflow.python.framework import graph_util\n",
    "\n",
    "frozen_graph = graph_util.convert_variables_to_constants(sess, \n",
    "                                                         sub_graph_def, \n",
    "                                                         output_names, \n",
    "                                                         freeze_var_names)\n",
    "\n",
    "graph_path = tf.train.write_graph(frozen_graph, \"models\", \"xor_tf.pb\", as_text=False)\n",
    "print('%s written' % graph_path)"
   ]
  },
  {
   "cell_type": "markdown",
   "metadata": {},
   "source": [
    "## uTensor"
   ]
  },
  {
   "cell_type": "markdown",
   "metadata": {},
   "source": [
    "```bash\n",
    "utensor-cli convert models/xor_tf.pb --output-nodes=layer3/Sigmoid\n",
    "```\n",
    "\n",
    "unsupported op type in uTensor: Sigmoid"
   ]
  },
  {
   "cell_type": "code",
   "execution_count": null,
   "metadata": {},
   "outputs": [],
   "source": []
  }
 ],
 "metadata": {
  "kernelspec": {
   "display_name": "Python 2",
   "language": "python",
   "name": "python2"
  },
  "language_info": {
   "codemirror_mode": {
    "name": "ipython",
    "version": 2
   },
   "file_extension": ".py",
   "mimetype": "text/x-python",
   "name": "python",
   "nbconvert_exporter": "python",
   "pygments_lexer": "ipython2",
   "version": "2.7.15"
  }
 },
 "nbformat": 4,
 "nbformat_minor": 2
}
